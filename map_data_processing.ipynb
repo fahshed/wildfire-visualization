{
 "cells": [
  {
   "cell_type": "code",
   "execution_count": 1,
   "id": "0f0e2ff4",
   "metadata": {},
   "outputs": [
    {
     "name": "stderr",
     "output_type": "stream",
     "text": [
      "C:\\Users\\Rasengan\\AppData\\Local\\Temp\\ipykernel_6980\\3422652871.py:2: DtypeWarning: Columns (9,11,12,13,14,15,16,17,18,19,26,27,36,38) have mixed types. Specify dtype option on import or set low_memory=False.\n",
      "  df = pd.read_csv(\"data.csv\")\n"
     ]
    }
   ],
   "source": [
    "import pandas as pd\n",
    "df = pd.read_csv(\"data.csv\")"
   ]
  },
  {
   "cell_type": "code",
   "execution_count": 6,
   "id": "eedad2b7",
   "metadata": {},
   "outputs": [
    {
     "data": {
      "text/plain": [
       "(2303566, 24)"
      ]
     },
     "execution_count": 6,
     "metadata": {},
     "output_type": "execute_result"
    }
   ],
   "source": [
    "id_columns = [\n",
    "    \"FOD_ID\",\n",
    "    \"FPA_ID\",\n",
    "    \"NWCG_REPORTING_UNIT_ID\",\n",
    "    \"SOURCE_REPORTING_UNIT\",\n",
    "    \"LOCAL_FIRE_REPORT_ID\",\n",
    "    \"LOCAL_INCIDENT_ID\",\n",
    "    \"FIRE_CODE\",\n",
    "    \"ICS_209_PLUS_INCIDENT_JOIN_ID\",\n",
    "    \"ICS_209_PLUS_COMPLEX_JOIN_ID\",\n",
    "    \"MTBS_ID\",\n",
    "    \"FIPS_CODE\",\n",
    "    \"MTBS_FIRE_NAME\",\n",
    "    \"COMPLEX_NAME\",\n",
    "    \"NWCG_CAUSE_AGE_CATEGORY\",\n",
    "    \"Shape\"\n",
    "]\n",
    "df_cleaned = df.drop(columns=id_columns)\n",
    "df_cleaned.shape"
   ]
  },
  {
   "cell_type": "code",
   "execution_count": 7,
   "id": "cf73a3bd",
   "metadata": {},
   "outputs": [
    {
     "data": {
      "text/plain": [
       "(2281364, 24)"
      ]
     },
     "execution_count": 7,
     "metadata": {},
     "output_type": "execute_result"
    }
   ],
   "source": [
    "# exclude_states = ['AK', 'HI', 'PR', 'VI', 'GU', 'MP', 'AS']\n",
    "exclude_states = ['PR']\n",
    "df_cleaned = df_cleaned[~df_cleaned['STATE'].isin(exclude_states)]\n",
    "\n",
    "df_cleaned.shape"
   ]
  },
  {
   "cell_type": "code",
   "execution_count": 8,
   "id": "e3126f3f",
   "metadata": {},
   "outputs": [
    {
     "name": "stderr",
     "output_type": "stream",
     "text": [
      "C:\\Users\\Rasengan\\AppData\\Local\\Temp\\ipykernel_6980\\3403554508.py:5: FutureWarning: DataFrameGroupBy.apply operated on the grouping columns. This behavior is deprecated, and in a future version of pandas the grouping columns will be excluded from the operation. Either pass `include_groups=False` to exclude the groupings or explicitly select the grouping columns after groupby to silence this warning.\n",
      "  df_sampled = df_cleaned.groupby('STATE').apply(\n"
     ]
    },
    {
     "data": {
      "text/plain": [
       "(199997, 24)"
      ]
     },
     "execution_count": 8,
     "metadata": {},
     "output_type": "execute_result"
    }
   ],
   "source": [
    "# df_cleaned = df_cleaned[df_cleaned[\"FIRE_YEAR\"] >= 2000]\n",
    "state_fire_counts = df_cleaned['STATE'].value_counts(normalize=True)\n",
    "total_sample_size = 200000\n",
    "state_sample_sizes = (state_fire_counts * total_sample_size).round().astype(int)\n",
    "df_sampled = df_cleaned.groupby('STATE').apply(\n",
    "    lambda x: x.sample(n=min(len(x), state_sample_sizes[x.name]), random_state=42)\n",
    ").reset_index(drop=True)\n",
    "df_sampled.shape"
   ]
  },
  {
   "cell_type": "code",
   "execution_count": 9,
   "id": "fda7d78e",
   "metadata": {},
   "outputs": [],
   "source": [
    "df_map = df_sampled[df_sampled[\"FIRE_SIZE\"] > 0]\n",
    "\n",
    "columns_to_keep = [\n",
    "    \"FIRE_NAME\",\n",
    "    \"FIRE_SIZE\",\n",
    "    \"DISCOVERY_DATE\",\n",
    "    \"LATITUDE\",\n",
    "    \"LONGITUDE\",\n",
    "    \"NWCG_CAUSE_CLASSIFICATION\",\n",
    "    \"STATE\",\n",
    "    \"FIRE_YEAR\",\n",
    "]\n",
    "\n",
    "df_map = df_map[columns_to_keep].copy()\n",
    "\n",
    "df_map.to_json(f'wildfires_{total_sample_size}_for_map.json', orient=\"records\", mode=\"w\")"
   ]
  }
 ],
 "metadata": {
  "kernelspec": {
   "display_name": ".env",
   "language": "python",
   "name": "python3"
  },
  "language_info": {
   "codemirror_mode": {
    "name": "ipython",
    "version": 3
   },
   "file_extension": ".py",
   "mimetype": "text/x-python",
   "name": "python",
   "nbconvert_exporter": "python",
   "pygments_lexer": "ipython3",
   "version": "3.13.3"
  }
 },
 "nbformat": 4,
 "nbformat_minor": 5
}
